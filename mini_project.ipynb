{
  "nbformat": 4,
  "nbformat_minor": 0,
  "metadata": {
    "colab": {
      "provenance": []
    },
    "kernelspec": {
      "name": "python3",
      "display_name": "Python 3"
    },
    "language_info": {
      "name": "python"
    }
  },
  "cells": [
    {
      "cell_type": "code",
      "execution_count": 1,
      "metadata": {
        "id": "TiwDKJVPjWm3"
      },
      "outputs": [],
      "source": [
        "import sqlite3\n",
        "import csv\n",
        "from utils import *\n",
        "import pandas as pd\n",
        "import numpy as np\n",
        "import matplotlib.pyplot as plt\n",
        "import time"
      ]
    },
    {
      "cell_type": "code",
      "source": [
        "database_path=\"census.db\"\n",
        "#As we are visualizing from married and unmarried perspective we\n",
        "#removed relationship as it was not making sense for eg. there is nothing like unmarried husband or married child\n",
        "all_a=['workclass','education','education_num','occupation','race','sex','native_country','income']\n",
        "all_m=['age','fnlwgt','capital_gain','capital_loss','hours_per_week']\n",
        "all_f=['avg','max','min','sum','count']\n",
        "\n",
        "top_k=5\n",
        "num_of_partitions=5\n",
        "delta=0.01\n",
        "con = sqlite3.connect(database_path)\n"
      ],
      "metadata": {
        "id": "uBY41RKjj4Vm"
      },
      "execution_count": 2,
      "outputs": []
    },
    {
      "cell_type": "code",
      "source": [
        "def create_main_database():\n",
        "    cur=con.cursor()\n",
        "    cur.execute(\"DROP TABLE IF EXISTS census\")\n",
        "    cur.execute(\"CREATE TABLE IF NOT EXISTS census(age INTEGER,workclass VARCHAR(200) NULL,fnlwgt INTEGER,education VARCHAR(200),education_num INTEGER,marital_status VARCHAR(200),occupation VARCHAR(200) NULL, relationship VARCHAR(200),race VARCHAR(200),sex VARCHAR(200),capital_gain INTEGER,capital_loss INTEGER,hours_per_week INTEGER,native_country VARCHAR(200) NULL,income VARCHAR(200))\")\n",
        "    with open(\"census+income/adult.data\", \"r\") as file:\n",
        "        contents = csv.reader(file)\n",
        "        attribute_tupple=('age','workclass','fnlwgt','education','education_num','marital_status','occupation', 'relationship','race','sex','capital_gain','capital_loss','hours_per_week','native_country','income')\n",
        "        _placeholder=place_holder(attribute_tupple)\n",
        "        insert_records = f\"INSERT INTO census VALUES {_placeholder}\"\n",
        "        cur.executemany(insert_records, contents)\n",
        "    con.commit()\n",
        "    print(\"Created Main Database\")\n",
        "\n",
        "def create_married_unmarried_database():\n",
        "    cur = con.cursor()\n",
        "    cur.execute(\"DROP TABLE IF EXISTS married\")\n",
        "    cur.execute(\"DROP TABLE IF EXISTS unmarried\")\n",
        "\n",
        "    # Create table for married individuals\n",
        "    cur.execute(\"CREATE TABLE married AS SELECT * FROM census WHERE TRIM(marital_status) IN ('Married-spouse-absent', 'Married-civ-spouse', 'Separated', 'Widowed', 'Married-AF-spouse')\")\n",
        "    cur.execute(\"ALTER TABLE married DROP COLUMN marital_status\")\n",
        "    # Create table for unmarried individuals\n",
        "    cur.execute(\"CREATE TABLE unmarried AS SELECT * FROM census WHERE TRIM(marital_status) IN ('Divorced', 'Never-married')\")\n",
        "    cur.execute(\"ALTER TABLE unmarried DROP COLUMN marital_status\")\n",
        "    con.commit()\n",
        "    print(\"Created Married and Unmarried Database\")"
      ],
      "metadata": {
        "id": "9ZlZVP_EjrUG"
      },
      "execution_count": 3,
      "outputs": []
    },
    {
      "cell_type": "code",
      "source": [
        "create_main_database()"
      ],
      "metadata": {
        "id": "xLFAYdN8kBrA",
        "colab": {
          "base_uri": "https://localhost:8080/"
        },
        "outputId": "cf4b5f56-7fac-4b51-a3f2-1bb0a9ce84f4"
      },
      "execution_count": 4,
      "outputs": [
        {
          "output_type": "stream",
          "name": "stdout",
          "text": [
            "Created Main Database\n"
          ]
        }
      ]
    },
    {
      "cell_type": "code",
      "source": [
        "create_married_unmarried_database()"
      ],
      "metadata": {
        "id": "hvVUKnugkDRL",
        "colab": {
          "base_uri": "https://localhost:8080/"
        },
        "outputId": "aca47bc1-f7db-4f62-e6ac-75dd15258ff5"
      },
      "execution_count": 5,
      "outputs": [
        {
          "output_type": "stream",
          "name": "stdout",
          "text": [
            "Created Married and Unmarried Database\n"
          ]
        }
      ]
    },
    {
      "cell_type": "code",
      "source": [
        "def find_target_table_and_ref_table(target_table,reference_table,a_column,f_m_column,aggregate):\n",
        "  # collecting all the data one by one in a row in a single dictionary\n",
        "  # for preparing probability distribution from target table and reference table\n",
        "  final_dict={}\n",
        "  for row in range(len(target_table)):\n",
        "    if target_table[f_m_column][row]!=0:\n",
        "      if target_table[a_column][row] not in final_dict:\n",
        "        final_dict[target_table[a_column][row]]=[[target_table[f_m_column][row]]]\n",
        "      else:\n",
        "        final_dict[target_table[a_column][row]][0].append(target_table[f_m_column][row])\n",
        "    #added 1e-9 as it will show error for attribute value 0 during kl divergence calculation\n",
        "    else:\n",
        "      if target_table[a_column][row] not in final_dict:\n",
        "        final_dict[target_table[a_column][row]]=[[1e-9]]\n",
        "      else:\n",
        "        final_dict[target_table[a_column][row]][0].append(1e-9)\n",
        "  for row in range(len(reference_table)):\n",
        "    #if the attribute value on in the target table\n",
        "    if reference_table[a_column][row] not in final_dict:\n",
        "      final_dict[reference_table[a_column][row]]=[[1e-9]]\n",
        "    if reference_table[f_m_column][row]!=0:\n",
        "      if len(final_dict[reference_table[a_column][row]])!=2:\n",
        "        final_dict[reference_table[a_column][row]].append([reference_table[f_m_column][row]])\n",
        "      else:\n",
        "        final_dict[reference_table[a_column][row]][1].append(reference_table[f_m_column][row])\n",
        "    else:\n",
        "      if len(final_dict[reference_table[a_column][row]])!=2:\n",
        "        final_dict[reference_table[a_column][row]].append([1e-9])\n",
        "      else:\n",
        "        final_dict[reference_table[a_column][row]][1].append(1e-9)\n",
        "\n",
        "  #if the attribute value is in target table but not in reference table\n",
        "  for key,value in final_dict.items():\n",
        "    if len(value)!=2:\n",
        "      final_dict[key].append([1e-9])\n",
        "\n",
        "  final_dict=get_updated_table_based_on_aggregate_group_by(final_dict,aggregate)\n",
        "\n",
        "  target_list=[]\n",
        "  reference_list=[]\n",
        "  for i in final_dict.values():\n",
        "    target_list.append(i[0])\n",
        "    reference_list.append(i[1])\n",
        "  return target_list,reference_list\n",
        "\n",
        "\n",
        "def get_updated_table_based_on_aggregate_group_by(final_dict,aggregate):\n",
        "  # manual calculation on aggregate for combine multiple group-by method as sqlite does not have grouping sets feature\n",
        "  if aggregate=='avg':\n",
        "    for key,value in final_dict.items():\n",
        "      tar_mean_val=np.mean(value[0])\n",
        "      ref_mean_val=np.mean(value[1])\n",
        "      final_dict[key][0]=tar_mean_val\n",
        "      final_dict[key][1]=ref_mean_val\n",
        "  elif aggregate=='sum':\n",
        "    for key,value in final_dict.items():\n",
        "      tar_mean_val=np.sum(value[0])\n",
        "      ref_mean_val=np.sum(value[1])\n",
        "      final_dict[key][0]=tar_mean_val\n",
        "      final_dict[key][1]=ref_mean_val\n",
        "  elif aggregate=='max':\n",
        "    for key,value in final_dict.items():\n",
        "      tar_mean_val=np.max(value[0])\n",
        "      ref_mean_val=np.max(value[1])\n",
        "      final_dict[key][0]=tar_mean_val\n",
        "      final_dict[key][1]=ref_mean_val\n",
        "  elif aggregate=='min':\n",
        "    for key,value in final_dict.items():\n",
        "      tar_mean_val=np.min(value[0])\n",
        "      ref_mean_val=np.min(value[1])\n",
        "      final_dict[key][0]=tar_mean_val\n",
        "      final_dict[key][1]=ref_mean_val\n",
        "  elif aggregate=='count':\n",
        "    for key,value in final_dict.items():\n",
        "      tar_mean_val=len(value[0])\n",
        "      ref_mean_val=len(value[1])\n",
        "      final_dict[key][0]=tar_mean_val\n",
        "      final_dict[key][1]=ref_mean_val\n",
        "  return final_dict"
      ],
      "metadata": {
        "id": "GRK0-S_R_kxJ"
      },
      "execution_count": 6,
      "outputs": []
    },
    {
      "cell_type": "markdown",
      "source": [
        "### Normal All Views Execution"
      ],
      "metadata": {
        "id": "5wq_fDkiwVNc"
      }
    },
    {
      "cell_type": "code",
      "source": [
        "#iterating over all the views\n",
        "start_time=time.time()\n",
        "final_ans={}\n",
        "for a in all_a:\n",
        "  for f in all_f:\n",
        "    for m in all_m:\n",
        "      married_query=f'select {a},{f}({m}) from married where {a} is not \" ?\" group by {a}'\n",
        "      unmarried_query=f'select {a},{f}({m}) from unmarried where {a} is not \" ?\" group by {a}'\n",
        "      cur = con.cursor()\n",
        "      married_result=cur.execute(married_query)\n",
        "      target_table=pd.DataFrame(married_result.fetchall())\n",
        "      cur = con.cursor()\n",
        "      unmarried_result=cur.execute(unmarried_query)\n",
        "      reference_table=pd.DataFrame(unmarried_result.fetchall())\n",
        "      target_list,reference_list=find_target_table_and_ref_table(target_table,reference_table,0,1,'avg')\n",
        "      final_ans[a,f,m]=kl_divergence(target_list,reference_list)\n",
        "result_list = sorted(final_ans.items(), key=lambda item: item[1],reverse=True)\n",
        "end_time=time.time()\n",
        "print(end_time-start_time)\n",
        "print(result_list)\n",
        "print(result_list[:top_k])"
      ],
      "metadata": {
        "colab": {
          "base_uri": "https://localhost:8080/"
        },
        "id": "OaWcam15_2ml",
        "outputId": "f3dccd58-9dd4-48ad-a894-2a4da430bce0"
      },
      "execution_count": 7,
      "outputs": [
        {
          "output_type": "stream",
          "name": "stdout",
          "text": [
            "14.826432704925537\n",
            "[(('native_country', 'min', 'capital_loss'), 24.01496317704784), (('native_country', 'avg', 'capital_loss'), 14.786019167819829), (('native_country', 'max', 'capital_loss'), 12.332418170225857), (('occupation', 'avg', 'capital_loss'), 8.519342852295644), (('native_country', 'avg', 'capital_gain'), 6.972511020461741), (('native_country', 'max', 'capital_gain'), 4.6586879384136015), (('education_num', 'max', 'capital_loss'), 2.7298424461501978), (('education', 'max', 'capital_loss'), 2.7298424461501973), (('education', 'avg', 'capital_loss'), 2.499400420923598), (('education_num', 'avg', 'capital_loss'), 2.499400420923598), (('education', 'max', 'capital_gain'), 1.535674470226553), (('education_num', 'max', 'capital_gain'), 1.535674470226553), (('education_num', 'avg', 'capital_gain'), 1.4979782421587824), (('education', 'avg', 'capital_gain'), 1.4979782421587822), (('occupation', 'max', 'capital_loss'), 1.3912033720458974), (('native_country', 'sum', 'capital_loss'), 0.7740039261924578), (('workclass', 'min', 'hours_per_week'), 0.7117008457846413), (('income', 'sum', 'capital_loss'), 0.6024933715151761), (('occupation', 'min', 'hours_per_week'), 0.5929942108232428), (('race', 'avg', 'capital_gain'), 0.5517147212867195), (('race', 'max', 'capital_gain'), 0.5238482190539062), (('income', 'sum', 'fnlwgt'), 0.4641085815596316), (('income', 'count', 'age'), 0.4600896696208465), (('income', 'count', 'fnlwgt'), 0.4600896696208465), (('income', 'count', 'capital_gain'), 0.4600896696208465), (('income', 'count', 'capital_loss'), 0.4600896696208465), (('income', 'count', 'hours_per_week'), 0.4600896696208465), (('occupation', 'max', 'capital_gain'), 0.4470983358314643), (('income', 'sum', 'hours_per_week'), 0.4443823553066254), (('income', 'sum', 'age'), 0.3861397725934737), (('native_country', 'sum', 'capital_gain'), 0.31206022468163297), (('income', 'min', 'hours_per_week'), 0.29389333245105953), (('native_country', 'min', 'hours_per_week'), 0.273446814784162), (('education', 'min', 'hours_per_week'), 0.2585727292830283), (('education_num', 'min', 'hours_per_week'), 0.2585727292830283), (('sex', 'sum', 'hours_per_week'), 0.21393515059075163), (('workclass', 'max', 'capital_gain'), 0.2127397233461309), (('sex', 'sum', 'age'), 0.2124486439187558), (('sex', 'sum', 'capital_loss'), 0.2045640795414827), (('education', 'sum', 'capital_loss'), 0.19928286890724634), (('education_num', 'sum', 'capital_loss'), 0.1992828689072461), (('sex', 'count', 'age'), 0.1953235703307546), (('sex', 'count', 'fnlwgt'), 0.1953235703307546), (('sex', 'count', 'capital_gain'), 0.1953235703307546), (('sex', 'count', 'capital_loss'), 0.1953235703307546), (('sex', 'count', 'hours_per_week'), 0.1953235703307546), (('workclass', 'avg', 'capital_gain'), 0.184092633074049), (('sex', 'sum', 'fnlwgt'), 0.18277857774249154), (('native_country', 'min', 'fnlwgt'), 0.18216399578142914), (('sex', 'sum', 'capital_gain'), 0.1680787195402806), (('occupation', 'sum', 'capital_loss'), 0.1386631458994521), (('race', 'min', 'hours_per_week'), 0.13835770079469417), (('occupation', 'avg', 'capital_gain'), 0.133350519152637), (('occupation', 'count', 'age'), 0.11905799153426405), (('occupation', 'count', 'fnlwgt'), 0.11905799153426405), (('occupation', 'count', 'capital_gain'), 0.11905799153426405), (('occupation', 'count', 'capital_loss'), 0.11905799153426405), (('occupation', 'count', 'hours_per_week'), 0.11905799153426405), (('workclass', 'sum', 'capital_loss'), 0.11807401424685886), (('occupation', 'sum', 'fnlwgt'), 0.11759494905876722), (('occupation', 'sum', 'hours_per_week'), 0.10813563688505942), (('education', 'sum', 'capital_gain'), 0.10392020344632728), (('education_num', 'sum', 'capital_gain'), 0.10392020344632728), (('occupation', 'sum', 'age'), 0.10135950245464577), (('workclass', 'max', 'fnlwgt'), 0.09073167648676952), (('workclass', 'sum', 'capital_gain'), 0.08323914970017804), (('education_num', 'max', 'fnlwgt'), 0.0828587677714942), (('education', 'max', 'fnlwgt'), 0.08285876777149417), (('sex', 'min', 'fnlwgt'), 0.07328103920111725), (('income', 'sum', 'capital_gain'), 0.07282681151698323), (('occupation', 'sum', 'capital_gain'), 0.07009314714850381), (('workclass', 'avg', 'capital_loss'), 0.06870405543611989), (('workclass', 'count', 'age'), 0.06531108847642925), (('workclass', 'count', 'fnlwgt'), 0.06531108847642925), (('workclass', 'count', 'capital_gain'), 0.06531108847642925), (('workclass', 'count', 'capital_loss'), 0.06531108847642925), (('workclass', 'count', 'hours_per_week'), 0.06531108847642925), (('workclass', 'sum', 'age'), 0.06353659949312096), (('workclass', 'sum', 'hours_per_week'), 0.06269003758033728), (('workclass', 'sum', 'fnlwgt'), 0.061910319584979834), (('occupation', 'max', 'fnlwgt'), 0.05843558450604075), (('occupation', 'min', 'fnlwgt'), 0.054903455163332796), (('education', 'sum', 'fnlwgt'), 0.05184339097151252), (('education_num', 'sum', 'fnlwgt'), 0.05184339097151251), (('native_country', 'max', 'fnlwgt'), 0.050876833194962945), (('education_num', 'count', 'age'), 0.05057064193232272), (('education_num', 'count', 'fnlwgt'), 0.05057064193232272), (('education_num', 'count', 'capital_gain'), 0.05057064193232272), (('education_num', 'count', 'capital_loss'), 0.05057064193232272), (('education_num', 'count', 'hours_per_week'), 0.05057064193232272), (('education', 'count', 'age'), 0.050570641932322594), (('education', 'count', 'fnlwgt'), 0.050570641932322594), (('education', 'count', 'capital_gain'), 0.050570641932322594), (('education', 'count', 'capital_loss'), 0.050570641932322594), (('education', 'count', 'hours_per_week'), 0.050570641932322594), (('native_country', 'min', 'age'), 0.05041437996557343), (('workclass', 'max', 'age'), 0.05038474235127366), (('race', 'sum', 'capital_gain'), 0.04718849338761687), (('workclass', 'avg', 'age'), 0.04150217912371391), (('native_country', 'max', 'hours_per_week'), 0.04057969738259836), (('native_country', 'max', 'age'), 0.036952241589692625), (('education_num', 'sum', 'age'), 0.03528299140742724), (('education', 'sum', 'age'), 0.03528299140742723), (('education', 'sum', 'hours_per_week'), 0.03413489935096341), (('education_num', 'sum', 'hours_per_week'), 0.0341348993509634), (('native_country', 'avg', 'hours_per_week'), 0.03290806272101752), (('sex', 'max', 'fnlwgt'), 0.031438919894560505), (('native_country', 'avg', 'age'), 0.03122399022659855), (('education', 'min', 'fnlwgt'), 0.02593548258210159), (('education_num', 'min', 'fnlwgt'), 0.025935482582101467), (('workclass', 'min', 'fnlwgt'), 0.024069524818436504), (('workclass', 'max', 'capital_loss'), 0.023611069969476407), (('income', 'min', 'fnlwgt'), 0.022212490489631073), (('income', 'avg', 'capital_gain'), 0.020050987654262366), (('workclass', 'max', 'hours_per_week'), 0.01895903857132263), (('race', 'sum', 'capital_loss'), 0.01759498004546871), (('workclass', 'min', 'age'), 0.017424887820717334), (('income', 'max', 'capital_loss'), 0.01724143898066796), (('native_country', 'avg', 'fnlwgt'), 0.016723409619671167), (('race', 'sum', 'age'), 0.014930564749283837), (('race', 'sum', 'hours_per_week'), 0.014333693291043975), (('race', 'count', 'age'), 0.012370860032636155), (('race', 'count', 'fnlwgt'), 0.012370860032636155), (('race', 'count', 'capital_gain'), 0.012370860032636155), (('race', 'count', 'capital_loss'), 0.012370860032636155), (('race', 'count', 'hours_per_week'), 0.012370860032636155), (('native_country', 'sum', 'fnlwgt'), 0.012306393707579319), (('race', 'min', 'fnlwgt'), 0.01205919075107991), (('native_country', 'sum', 'age'), 0.011612569287234526), (('race', 'max', 'hours_per_week'), 0.011383804348507335), (('race', 'sum', 'fnlwgt'), 0.011305208431870918), (('workclass', 'avg', 'fnlwgt'), 0.011266235899103196), (('native_country', 'sum', 'hours_per_week'), 0.010758017686714322), (('native_country', 'count', 'age'), 0.010462597288268814), (('native_country', 'count', 'fnlwgt'), 0.010462597288268814), (('native_country', 'count', 'capital_gain'), 0.010462597288268814), (('native_country', 'count', 'capital_loss'), 0.010462597288268814), (('native_country', 'count', 'hours_per_week'), 0.010462597288268814), (('race', 'max', 'age'), 0.009172828039704012), (('income', 'avg', 'age'), 0.00733401989256828), (('race', 'max', 'capital_loss'), 0.007255192516317947), (('workclass', 'avg', 'hours_per_week'), 0.0072491221488888945), (('education_num', 'avg', 'age'), 0.00701718109136956), (('education', 'avg', 'age'), 0.0070171810913695586), (('occupation', 'max', 'hours_per_week'), 0.0064099753037534565), (('race', 'avg', 'capital_loss'), 0.005623949765642211), (('education_num', 'max', 'hours_per_week'), 0.0054105686342799065), (('education', 'max', 'hours_per_week'), 0.0054105686342797825), (('education', 'max', 'age'), 0.005258998726225217), (('education_num', 'max', 'age'), 0.005258998726225217), (('occupation', 'max', 'age'), 0.004544349398931544), (('income', 'max', 'fnlwgt'), 0.004517361444439157), (('education_num', 'avg', 'hours_per_week'), 0.004319321076670277), (('education', 'avg', 'hours_per_week'), 0.004319321076670109), (('education', 'avg', 'fnlwgt'), 0.004086629260270903), (('education_num', 'avg', 'fnlwgt'), 0.004086629260270902), (('income', 'max', 'capital_gain'), 0.003707483801770106), (('occupation', 'min', 'age'), 0.0036215149864702745), (('race', 'max', 'fnlwgt'), 0.003596218602304104), (('education', 'min', 'age'), 0.003432167635295337), (('education_num', 'min', 'age'), 0.003432167635295337), (('occupation', 'avg', 'age'), 0.0033329054173810604), (('sex', 'avg', 'capital_loss'), 0.0024228888671794027), (('occupation', 'avg', 'fnlwgt'), 0.0021029165411628023), (('sex', 'avg', 'hours_per_week'), 0.0018504403006634577), (('sex', 'max', 'capital_loss'), 0.0016835665679337149), (('income', 'avg', 'hours_per_week'), 0.0015401067326738169), (('occupation', 'avg', 'hours_per_week'), 0.00106466812967476), (('race', 'avg', 'fnlwgt'), 0.0009652270813681977), (('race', 'min', 'age'), 0.0009573821630354772), (('sex', 'avg', 'capital_gain'), 0.0007974555536191565), (('race', 'avg', 'hours_per_week'), 0.0004590594455123453), (('race', 'avg', 'age'), 0.0004124673938008718), (('sex', 'avg', 'age'), 0.00034825623213703173), (('sex', 'avg', 'fnlwgt'), 0.00015969992333341766), (('income', 'avg', 'fnlwgt'), 1.4525004261505686e-05), (('income', 'avg', 'capital_loss'), 2.392067738341886e-07), (('workclass', 'min', 'capital_gain'), 0.0), (('workclass', 'min', 'capital_loss'), 0.0), (('education', 'min', 'capital_gain'), 0.0), (('education', 'min', 'capital_loss'), 0.0), (('education_num', 'min', 'capital_gain'), 0.0), (('education_num', 'min', 'capital_loss'), 0.0), (('occupation', 'min', 'capital_gain'), 0.0), (('occupation', 'min', 'capital_loss'), 0.0), (('race', 'min', 'capital_gain'), 0.0), (('race', 'min', 'capital_loss'), 0.0), (('sex', 'max', 'age'), 0.0), (('sex', 'max', 'capital_gain'), 0.0), (('sex', 'max', 'hours_per_week'), 0.0), (('sex', 'min', 'age'), 0.0), (('sex', 'min', 'capital_gain'), 0.0), (('sex', 'min', 'capital_loss'), 0.0), (('sex', 'min', 'hours_per_week'), 0.0), (('native_country', 'min', 'capital_gain'), 0.0), (('income', 'max', 'age'), 0.0), (('income', 'max', 'hours_per_week'), 0.0), (('income', 'min', 'age'), 0.0), (('income', 'min', 'capital_gain'), 0.0), (('income', 'min', 'capital_loss'), 0.0)]\n",
            "[(('native_country', 'min', 'capital_loss'), 24.01496317704784), (('native_country', 'avg', 'capital_loss'), 14.786019167819829), (('native_country', 'max', 'capital_loss'), 12.332418170225857), (('occupation', 'avg', 'capital_loss'), 8.519342852295644), (('native_country', 'avg', 'capital_gain'), 6.972511020461741)]\n"
          ]
        }
      ]
    },
    {
      "cell_type": "markdown",
      "source": [
        "## Share Based Optimization (Combine Multiple Aggregate)"
      ],
      "metadata": {
        "id": "C_F7OhIww1v2"
      }
    },
    {
      "cell_type": "code",
      "source": [
        "def combine_multiple_aggregate(a,f_m):\n",
        "    #combining multiple aggregates\n",
        "    group_by=\" group by \"+f\"{a}\"\n",
        "    from_married=\" from married\"\n",
        "    from_unmarried=\" from unmarried\"\n",
        "    where= f' where {a} is not \" ?\" '\n",
        "    query=\"select \"+f\"{a}\"+ f_m\n",
        "    married_query=query+from_married+where+group_by\n",
        "    unmarried_query=query+from_unmarried+where+group_by\n",
        "    return married_query,unmarried_query\n"
      ],
      "metadata": {
        "id": "TyvVuxAtQfeq"
      },
      "execution_count": 8,
      "outputs": []
    },
    {
      "cell_type": "code",
      "source": [
        "start_time=time.time()\n",
        "f_m=\" \"\n",
        "fm_list=[]\n",
        "for f in all_f:\n",
        "  for m in all_m:\n",
        "    f_m=f_m+f\",{f}({m})\"\n",
        "    fm_list.append((f,m))\n",
        "final_ans={}\n",
        "for a in all_a:\n",
        "  married_query,unmarried_query=combine_multiple_aggregate(a,f_m)\n",
        "  cur = con.cursor()\n",
        "  married_result=cur.execute(married_query)\n",
        "  target_table=pd.DataFrame(married_result.fetchall())\n",
        "\n",
        "  cur.close()\n",
        "  cur = con.cursor()\n",
        "  unmarried_result=cur.execute(unmarried_query)\n",
        "  reference_table=pd.DataFrame(unmarried_result.fetchall())\n",
        "  for f_m_column in range(1,len(fm_list)+1):\n",
        "    target_list,reference_list=find_target_table_and_ref_table(target_table,reference_table,0,f_m_column,fm_list[f_m_column-1][0])\n",
        "    final_ans[(a,fm_list[f_m_column-1][0],fm_list[f_m_column-1][1])]=kl_divergence(target_list,reference_list)\n",
        "result_list = sorted(final_ans.items(), key=lambda item: item[1],reverse=True)\n",
        "end_time=time.time()\n",
        "print(end_time-start_time)\n",
        "print(result_list[:top_k])\n",
        "print(result_list)"
      ],
      "metadata": {
        "colab": {
          "base_uri": "https://localhost:8080/"
        },
        "id": "RpKwTJe0Qfnr",
        "outputId": "7241dbda-feda-49d1-af93-d95a9b5188b4"
      },
      "execution_count": 9,
      "outputs": [
        {
          "output_type": "stream",
          "name": "stdout",
          "text": [
            "2.5375711917877197\n",
            "[(('native_country', 'min', 'capital_loss'), 24.01496317704784), (('native_country', 'avg', 'capital_loss'), 14.786019167819829), (('native_country', 'max', 'capital_loss'), 12.332418170225857), (('occupation', 'avg', 'capital_loss'), 8.519342852295644), (('native_country', 'avg', 'capital_gain'), 6.972511020461741)]\n",
            "[(('native_country', 'min', 'capital_loss'), 24.01496317704784), (('native_country', 'avg', 'capital_loss'), 14.786019167819829), (('native_country', 'max', 'capital_loss'), 12.332418170225857), (('occupation', 'avg', 'capital_loss'), 8.519342852295644), (('native_country', 'avg', 'capital_gain'), 6.972511020461741), (('native_country', 'max', 'capital_gain'), 4.6586879384136015), (('education_num', 'max', 'capital_loss'), 2.7298424461501978), (('education', 'max', 'capital_loss'), 2.7298424461501973), (('education', 'avg', 'capital_loss'), 2.499400420923598), (('education_num', 'avg', 'capital_loss'), 2.499400420923598), (('education', 'max', 'capital_gain'), 1.535674470226553), (('education_num', 'max', 'capital_gain'), 1.535674470226553), (('education_num', 'avg', 'capital_gain'), 1.4979782421587824), (('education', 'avg', 'capital_gain'), 1.4979782421587822), (('occupation', 'max', 'capital_loss'), 1.3912033720458974), (('native_country', 'sum', 'capital_loss'), 0.7740039261924578), (('workclass', 'min', 'hours_per_week'), 0.7117008457846413), (('income', 'sum', 'capital_loss'), 0.6024933715151761), (('occupation', 'min', 'hours_per_week'), 0.5929942108232428), (('race', 'avg', 'capital_gain'), 0.5517147212867195), (('race', 'max', 'capital_gain'), 0.5238482190539062), (('income', 'sum', 'fnlwgt'), 0.4641085815596316), (('occupation', 'max', 'capital_gain'), 0.4470983358314643), (('income', 'sum', 'hours_per_week'), 0.4443823553066254), (('income', 'sum', 'age'), 0.3861397725934737), (('native_country', 'sum', 'capital_gain'), 0.31206022468163297), (('income', 'min', 'hours_per_week'), 0.29389333245105953), (('native_country', 'min', 'hours_per_week'), 0.273446814784162), (('education', 'min', 'hours_per_week'), 0.2585727292830283), (('education_num', 'min', 'hours_per_week'), 0.2585727292830283), (('sex', 'sum', 'hours_per_week'), 0.21393515059075163), (('workclass', 'max', 'capital_gain'), 0.2127397233461309), (('sex', 'sum', 'age'), 0.2124486439187558), (('sex', 'sum', 'capital_loss'), 0.2045640795414827), (('education', 'sum', 'capital_loss'), 0.19928286890724634), (('education_num', 'sum', 'capital_loss'), 0.1992828689072461), (('workclass', 'avg', 'capital_gain'), 0.184092633074049), (('sex', 'sum', 'fnlwgt'), 0.18277857774249154), (('native_country', 'min', 'fnlwgt'), 0.18216399578142914), (('sex', 'sum', 'capital_gain'), 0.1680787195402806), (('occupation', 'sum', 'capital_loss'), 0.1386631458994521), (('race', 'min', 'hours_per_week'), 0.13835770079469417), (('occupation', 'avg', 'capital_gain'), 0.133350519152637), (('workclass', 'sum', 'capital_loss'), 0.11807401424685886), (('occupation', 'sum', 'fnlwgt'), 0.11759494905876722), (('occupation', 'sum', 'hours_per_week'), 0.10813563688505942), (('education', 'sum', 'capital_gain'), 0.10392020344632728), (('education_num', 'sum', 'capital_gain'), 0.10392020344632728), (('occupation', 'sum', 'age'), 0.10135950245464577), (('workclass', 'max', 'fnlwgt'), 0.09073167648676952), (('workclass', 'sum', 'capital_gain'), 0.08323914970017804), (('education_num', 'max', 'fnlwgt'), 0.0828587677714942), (('education', 'max', 'fnlwgt'), 0.08285876777149417), (('sex', 'min', 'fnlwgt'), 0.07328103920111725), (('income', 'sum', 'capital_gain'), 0.07282681151698323), (('occupation', 'sum', 'capital_gain'), 0.07009314714850381), (('workclass', 'avg', 'capital_loss'), 0.06870405543611989), (('workclass', 'sum', 'age'), 0.06353659949312096), (('workclass', 'sum', 'hours_per_week'), 0.06269003758033728), (('workclass', 'sum', 'fnlwgt'), 0.061910319584979834), (('occupation', 'max', 'fnlwgt'), 0.05843558450604075), (('occupation', 'min', 'fnlwgt'), 0.054903455163332796), (('education', 'sum', 'fnlwgt'), 0.05184339097151252), (('education_num', 'sum', 'fnlwgt'), 0.05184339097151251), (('native_country', 'max', 'fnlwgt'), 0.050876833194962945), (('native_country', 'min', 'age'), 0.05041437996557343), (('workclass', 'max', 'age'), 0.05038474235127366), (('race', 'sum', 'capital_gain'), 0.04718849338761687), (('workclass', 'avg', 'age'), 0.04150217912371391), (('native_country', 'max', 'hours_per_week'), 0.04057969738259836), (('native_country', 'max', 'age'), 0.036952241589692625), (('education_num', 'sum', 'age'), 0.03528299140742724), (('education', 'sum', 'age'), 0.03528299140742723), (('education', 'sum', 'hours_per_week'), 0.03413489935096341), (('education_num', 'sum', 'hours_per_week'), 0.0341348993509634), (('native_country', 'avg', 'hours_per_week'), 0.03290806272101752), (('sex', 'max', 'fnlwgt'), 0.031438919894560505), (('native_country', 'avg', 'age'), 0.03122399022659855), (('education', 'min', 'fnlwgt'), 0.02593548258210159), (('education_num', 'min', 'fnlwgt'), 0.025935482582101467), (('workclass', 'min', 'fnlwgt'), 0.024069524818436504), (('workclass', 'max', 'capital_loss'), 0.023611069969476407), (('income', 'min', 'fnlwgt'), 0.022212490489631073), (('income', 'avg', 'capital_gain'), 0.020050987654262366), (('workclass', 'max', 'hours_per_week'), 0.01895903857132263), (('race', 'sum', 'capital_loss'), 0.01759498004546871), (('workclass', 'min', 'age'), 0.017424887820717334), (('income', 'max', 'capital_loss'), 0.01724143898066796), (('native_country', 'avg', 'fnlwgt'), 0.016723409619671167), (('race', 'sum', 'age'), 0.014930564749283837), (('race', 'sum', 'hours_per_week'), 0.014333693291043975), (('native_country', 'sum', 'fnlwgt'), 0.012306393707579319), (('race', 'min', 'fnlwgt'), 0.01205919075107991), (('native_country', 'sum', 'age'), 0.011612569287234526), (('race', 'max', 'hours_per_week'), 0.011383804348507335), (('race', 'sum', 'fnlwgt'), 0.011305208431870918), (('workclass', 'avg', 'fnlwgt'), 0.011266235899103196), (('native_country', 'sum', 'hours_per_week'), 0.010758017686714322), (('race', 'max', 'age'), 0.009172828039704012), (('income', 'avg', 'age'), 0.00733401989256828), (('race', 'max', 'capital_loss'), 0.007255192516317947), (('workclass', 'avg', 'hours_per_week'), 0.0072491221488888945), (('education_num', 'avg', 'age'), 0.00701718109136956), (('education', 'avg', 'age'), 0.0070171810913695586), (('occupation', 'max', 'hours_per_week'), 0.0064099753037534565), (('race', 'avg', 'capital_loss'), 0.005623949765642211), (('education_num', 'max', 'hours_per_week'), 0.0054105686342799065), (('education', 'max', 'hours_per_week'), 0.0054105686342797825), (('education', 'max', 'age'), 0.005258998726225217), (('education_num', 'max', 'age'), 0.005258998726225217), (('occupation', 'max', 'age'), 0.004544349398931544), (('income', 'max', 'fnlwgt'), 0.004517361444439157), (('education_num', 'avg', 'hours_per_week'), 0.004319321076670277), (('education', 'avg', 'hours_per_week'), 0.004319321076670109), (('education', 'avg', 'fnlwgt'), 0.004086629260270903), (('education_num', 'avg', 'fnlwgt'), 0.004086629260270902), (('income', 'max', 'capital_gain'), 0.003707483801770106), (('occupation', 'min', 'age'), 0.0036215149864702745), (('race', 'max', 'fnlwgt'), 0.003596218602304104), (('education', 'min', 'age'), 0.003432167635295337), (('education_num', 'min', 'age'), 0.003432167635295337), (('occupation', 'avg', 'age'), 0.0033329054173810604), (('sex', 'avg', 'capital_loss'), 0.0024228888671794027), (('occupation', 'avg', 'fnlwgt'), 0.0021029165411628023), (('sex', 'avg', 'hours_per_week'), 0.0018504403006634577), (('sex', 'max', 'capital_loss'), 0.0016835665679337149), (('income', 'avg', 'hours_per_week'), 0.0015401067326738169), (('occupation', 'avg', 'hours_per_week'), 0.00106466812967476), (('race', 'avg', 'fnlwgt'), 0.0009652270813681977), (('race', 'min', 'age'), 0.0009573821630354772), (('sex', 'avg', 'capital_gain'), 0.0007974555536191565), (('race', 'avg', 'hours_per_week'), 0.0004590594455123453), (('race', 'avg', 'age'), 0.0004124673938008718), (('sex', 'avg', 'age'), 0.00034825623213703173), (('sex', 'avg', 'fnlwgt'), 0.00015969992333341766), (('income', 'avg', 'fnlwgt'), 1.4525004261505686e-05), (('income', 'avg', 'capital_loss'), 2.392067738341886e-07), (('workclass', 'min', 'capital_gain'), 0.0), (('workclass', 'min', 'capital_loss'), 0.0), (('workclass', 'count', 'age'), 0.0), (('workclass', 'count', 'fnlwgt'), 0.0), (('workclass', 'count', 'capital_gain'), 0.0), (('workclass', 'count', 'capital_loss'), 0.0), (('workclass', 'count', 'hours_per_week'), 0.0), (('education', 'min', 'capital_gain'), 0.0), (('education', 'min', 'capital_loss'), 0.0), (('education', 'count', 'age'), 0.0), (('education', 'count', 'fnlwgt'), 0.0), (('education', 'count', 'capital_gain'), 0.0), (('education', 'count', 'capital_loss'), 0.0), (('education', 'count', 'hours_per_week'), 0.0), (('education_num', 'min', 'capital_gain'), 0.0), (('education_num', 'min', 'capital_loss'), 0.0), (('education_num', 'count', 'age'), 0.0), (('education_num', 'count', 'fnlwgt'), 0.0), (('education_num', 'count', 'capital_gain'), 0.0), (('education_num', 'count', 'capital_loss'), 0.0), (('education_num', 'count', 'hours_per_week'), 0.0), (('occupation', 'min', 'capital_gain'), 0.0), (('occupation', 'min', 'capital_loss'), 0.0), (('occupation', 'count', 'age'), 0.0), (('occupation', 'count', 'fnlwgt'), 0.0), (('occupation', 'count', 'capital_gain'), 0.0), (('occupation', 'count', 'capital_loss'), 0.0), (('occupation', 'count', 'hours_per_week'), 0.0), (('race', 'min', 'capital_gain'), 0.0), (('race', 'min', 'capital_loss'), 0.0), (('race', 'count', 'age'), 0.0), (('race', 'count', 'fnlwgt'), 0.0), (('race', 'count', 'capital_gain'), 0.0), (('race', 'count', 'capital_loss'), 0.0), (('race', 'count', 'hours_per_week'), 0.0), (('sex', 'max', 'age'), 0.0), (('sex', 'max', 'capital_gain'), 0.0), (('sex', 'max', 'hours_per_week'), 0.0), (('sex', 'min', 'age'), 0.0), (('sex', 'min', 'capital_gain'), 0.0), (('sex', 'min', 'capital_loss'), 0.0), (('sex', 'min', 'hours_per_week'), 0.0), (('sex', 'count', 'age'), 0.0), (('sex', 'count', 'fnlwgt'), 0.0), (('sex', 'count', 'capital_gain'), 0.0), (('sex', 'count', 'capital_loss'), 0.0), (('sex', 'count', 'hours_per_week'), 0.0), (('native_country', 'min', 'capital_gain'), 0.0), (('native_country', 'count', 'age'), 0.0), (('native_country', 'count', 'fnlwgt'), 0.0), (('native_country', 'count', 'capital_gain'), 0.0), (('native_country', 'count', 'capital_loss'), 0.0), (('native_country', 'count', 'hours_per_week'), 0.0), (('income', 'max', 'age'), 0.0), (('income', 'max', 'hours_per_week'), 0.0), (('income', 'min', 'age'), 0.0), (('income', 'min', 'capital_gain'), 0.0), (('income', 'min', 'capital_loss'), 0.0), (('income', 'count', 'age'), 0.0), (('income', 'count', 'fnlwgt'), 0.0), (('income', 'count', 'capital_gain'), 0.0), (('income', 'count', 'capital_loss'), 0.0), (('income', 'count', 'hours_per_week'), 0.0)]\n"
          ]
        }
      ]
    },
    {
      "cell_type": "markdown",
      "source": [
        "## Share Based Optimization (Combine Multiple Aggregate) (Combine Reference Query and Target Query)"
      ],
      "metadata": {
        "id": "GROokDdm4gXh"
      }
    },
    {
      "cell_type": "code",
      "source": [
        "def combine_multiple_aggregate_and_queries(a,f_m):\n",
        "  #combining multiple aggregates and target and reference queries\n",
        "  group_by=\" group by \"+f\"{a}\"\n",
        "  from_census=\" from census\"\n",
        "  where= f' where {a} is not \" ?\" '\n",
        "  case_clause=\", CASE WHEN TRIM(marital_status) IN ('Married-spouse-absent', 'Married-civ-spouse', 'Separated', 'Widowed', 'Married-AF-spouse') THEN 1 ELSE 0 END as g1, CASE WHEN TRIM(marital_status) IN ('Divorced', 'Never-married') THEN 1 ELSE 0 END as g2\"\n",
        "  combined_query=\"select \"+f\"{a}\"+f_m+case_clause+from_census+where+group_by+\",g1,g2\"\n",
        "  return combined_query\n"
      ],
      "metadata": {
        "id": "aeTfANJK2rVd"
      },
      "execution_count": 10,
      "outputs": []
    },
    {
      "cell_type": "code",
      "source": [
        "start_time=time.time()\n",
        "f_m=\" \"\n",
        "fm_list=[]\n",
        "for f in all_f:\n",
        "  for m in all_m:\n",
        "    f_m=f_m+f\",{f}({m})\"\n",
        "    fm_list.append((f,m))\n",
        "final_ans={}\n",
        "for a in all_a:\n",
        "  combined_query=combine_multiple_aggregate_and_queries(a,f_m)\n",
        "  cur = con.cursor()\n",
        "  married_unmarried_result=cur.execute(combined_query)\n",
        "\n",
        "  all_table=pd.DataFrame(married_unmarried_result.fetchall())\n",
        "  cur.close()\n",
        "  target_table=all_table.where(all_table[26]==1).dropna().reset_index()\n",
        "  reference_table=all_table.where(all_table[27]==1).dropna().reset_index()\n",
        "  for f_m_column in range(1,len(fm_list)+1):\n",
        "    target_list,reference_list=find_target_table_and_ref_table(target_table,reference_table,0,f_m_column,fm_list[f_m_column-1][0])\n",
        "    final_ans[(a,fm_list[f_m_column-1][0],fm_list[f_m_column-1][1])]=kl_divergence(target_list,reference_list)\n",
        "result_list = sorted(final_ans.items(), key=lambda item: item[1],reverse=True)\n",
        "end_time=time.time()\n",
        "print(end_time-start_time)\n",
        "print(result_list[:top_k])"
      ],
      "metadata": {
        "colab": {
          "base_uri": "https://localhost:8080/"
        },
        "id": "veIt7tjf2roq",
        "outputId": "982396f3-1180-47a1-a33b-3fb994a20c4b"
      },
      "execution_count": 11,
      "outputs": [
        {
          "output_type": "stream",
          "name": "stdout",
          "text": [
            "3.830048084259033\n",
            "[(('native_country', 'min', 'capital_loss'), 24.01496317704784), (('native_country', 'avg', 'capital_loss'), 14.786019167819829), (('native_country', 'max', 'capital_loss'), 12.332418170225857), (('occupation', 'avg', 'capital_loss'), 8.519342852295644), (('native_country', 'avg', 'capital_gain'), 6.972511020461741)]\n"
          ]
        }
      ]
    },
    {
      "cell_type": "markdown",
      "source": [
        "## Share Based Optimization (Combine Multiple Aggregate and Group By)"
      ],
      "metadata": {
        "id": "oALtVITQw4kt"
      }
    },
    {
      "cell_type": "code",
      "source": [
        "def combine_multiple_aggregate_and_groupby():\n",
        "  #combining multiple aggregates and group by\n",
        "    f_m=\" \"\n",
        "    fm_list=[]\n",
        "    for f in all_f:\n",
        "        for m in all_m:\n",
        "            f_m=f_m+f\",{f}({m})\"\n",
        "            fm_list.append((f,m))\n",
        "\n",
        "    select=\"select\"\n",
        "    group_by=\" group by\"\n",
        "    where=\" where \"\n",
        "    for a in all_a:\n",
        "        select=select+f\" {a},\"\n",
        "        group_by=group_by+f\" {a},\"\n",
        "        where= f' where {a} is not \" ?\" and '\n",
        "    select=select[:-1]\n",
        "    group_by=group_by[:-1]\n",
        "    where=where[:-4]\n",
        "\n",
        "    from_married=\" from married\"\n",
        "    from_unmarried=\" from unmarried\"\n",
        "    married_query=select+f_m+from_married+where+group_by\n",
        "    unmarried_query=select+f_m+from_unmarried+where+group_by\n",
        "    return married_query,unmarried_query,fm_list\n"
      ],
      "metadata": {
        "id": "xgPrJR1qkEta"
      },
      "execution_count": 12,
      "outputs": []
    },
    {
      "cell_type": "code",
      "source": [
        "start_time=time.time()\n",
        "married_query,unmarried_query,fm_list=combine_multiple_aggregate_and_groupby()\n",
        "cur = con.cursor()\n",
        "married_result=cur.execute(married_query)\n",
        "target_table=pd.DataFrame(married_result.fetchall())\n",
        "cur.close()\n",
        "cur = con.cursor()\n",
        "unmarried_result=cur.execute(unmarried_query)\n",
        "reference_table=pd.DataFrame(unmarried_result.fetchall())\n",
        "cur.close()\n",
        "final_ans={}\n",
        "for a_column in range(len(all_a)):\n",
        "    for f_m_column in range(len(all_a),len(all_a)+len(fm_list)):\n",
        "        target_list,reference_list=find_target_table_and_ref_table(target_table,reference_table,a_column,f_m_column,fm_list[f_m_column-len(all_a)][0])\n",
        "        final_ans[(all_a[a_column],fm_list[f_m_column-len(all_a)][0],fm_list[f_m_column-len(all_a)][1])]=kl_divergence(target_list,reference_list)\n",
        "result_list = sorted(final_ans.items(), key=lambda item: item[1],reverse=True)\n",
        "end_time=time.time()\n",
        "print(end_time-start_time)\n",
        "print(result_list[:top_k])"
      ],
      "metadata": {
        "colab": {
          "base_uri": "https://localhost:8080/"
        },
        "id": "a88nr5PNkQfp",
        "outputId": "fd304a1c-31e4-4503-b65c-6765401859fc"
      },
      "execution_count": 13,
      "outputs": [
        {
          "output_type": "stream",
          "name": "stdout",
          "text": [
            "33.387032985687256\n",
            "[(('native_country', 'min', 'capital_loss'), 24.007370705971454), (('native_country', 'avg', 'capital_loss'), 14.303323026145657), (('native_country', 'max', 'capital_loss'), 11.8960221527327), (('occupation', 'avg', 'capital_loss'), 8.416759833686148), (('native_country', 'avg', 'capital_gain'), 6.478983727628643)]\n"
          ]
        }
      ]
    },
    {
      "cell_type": "markdown",
      "source": [
        "## Share Based Optimization (Combine Multiple Aggregate and Group By) (Combine Reference Query and Target Query)"
      ],
      "metadata": {
        "id": "TSUrlaXMxJ9o"
      }
    },
    {
      "cell_type": "code",
      "source": [
        "def combine_multiple_aggregate_and_groupby_and_queries():\n",
        "  #combining multiple aggregates and group by and queries\n",
        "  f_m=\" \"\n",
        "  fm_list=[]\n",
        "  for f in all_f:\n",
        "      for m in all_m:\n",
        "          f_m=f_m+f\",{f}({m})\"\n",
        "          fm_list.append((f,m))\n",
        "\n",
        "  select=\"select\"\n",
        "  group_by=\" group by\"\n",
        "  where=\" where \"\n",
        "  for a in all_a:\n",
        "      select=select+f\" {a},\"\n",
        "      group_by=group_by+f\" {a},\"\n",
        "      where= f' where {a} is not \" ?\" and '\n",
        "  select=select[:-1]\n",
        "  group_by=group_by[:-1]\n",
        "  where=where[:-4]\n",
        "  from_census=\" from census\"\n",
        "  case_clause=\", CASE WHEN TRIM(marital_status) IN ('Married-spouse-absent', 'Married-civ-spouse', 'Separated', 'Widowed', 'Married-AF-spouse') THEN 1 ELSE 0 END as g1, CASE WHEN TRIM(marital_status) IN ('Divorced', 'Never-married') THEN 1 ELSE 0 END as g2\"\n",
        "  combined_query=select+f_m+case_clause+from_census+where+group_by+\",g1,g2\"\n",
        "  return combined_query,fm_list\n"
      ],
      "metadata": {
        "id": "YYjMVkm-xcrf"
      },
      "execution_count": 14,
      "outputs": []
    },
    {
      "cell_type": "code",
      "source": [
        "start_time=time.time()\n",
        "combined_query,fm_list=combine_multiple_aggregate_and_groupby_and_queries()\n",
        "cur = con.cursor()\n",
        "married_unmarried_result=cur.execute(combined_query)\n",
        "all_table=pd.DataFrame(married_unmarried_result.fetchall())\n",
        "cur.close()\n",
        "target_table=all_table.where(all_table[33]==1).dropna().reset_index()\n",
        "reference_table=all_table.where(all_table[34]==1).dropna().reset_index()\n",
        "final_ans={}\n",
        "for a_column in range(len(all_a)):\n",
        "    for f_m_column in range(len(all_a),len(all_a)+len(fm_list)):\n",
        "        target_list,reference_list=find_target_table_and_ref_table(target_table,reference_table,a_column,f_m_column,fm_list[f_m_column-len(all_a)][0])\n",
        "        final_ans[(all_a[a_column],fm_list[f_m_column-len(all_a)][0],fm_list[f_m_column-len(all_a)][1])]=kl_divergence(target_list,reference_list)\n",
        "result_list = sorted(final_ans.items(), key=lambda item: item[1],reverse=True)\n",
        "end_time=time.time()\n",
        "print(end_time-start_time)\n",
        "print(result_list[:top_k])"
      ],
      "metadata": {
        "colab": {
          "base_uri": "https://localhost:8080/"
        },
        "id": "d4TmfQSsxZtb",
        "outputId": "bf6c7d2b-855e-47f3-c65d-87b1e5f5a0ff"
      },
      "execution_count": 15,
      "outputs": [
        {
          "output_type": "stream",
          "name": "stdout",
          "text": [
            "33.34651446342468\n",
            "[(('native_country', 'min', 'capital_loss'), 24.007370705971454), (('native_country', 'avg', 'capital_loss'), 14.303323026145657), (('native_country', 'max', 'capital_loss'), 11.8960221527327), (('occupation', 'avg', 'capital_loss'), 8.416759833686148), (('native_country', 'avg', 'capital_gain'), 6.478983727628643)]\n"
          ]
        }
      ]
    },
    {
      "cell_type": "markdown",
      "source": [
        "## Pruning Based Method (Interval Based Method)"
      ],
      "metadata": {
        "id": "vd6rcqJgxCsQ"
      }
    },
    {
      "cell_type": "code",
      "source": [
        "def find_mean_and_bound(res_dict,num_of_partitions,delta):\n",
        "    #finding confidence interval and upper bound and lower bound\n",
        "    stats_dict={}\n",
        "    for key,values in res_dict.items():\n",
        "        mean=np.mean(values)\n",
        "        #here I have done len(values)+1 as I did not want log(log(1)) to throw any error\n",
        "        ci=confidence_interval(len(values)+1,num_of_partitions,delta)\n",
        "        upper_bound=mean+ci\n",
        "        lower_bound=mean-ci\n",
        "        stats_dict[key]=(mean,upper_bound,lower_bound)\n",
        "    return stats_dict"
      ],
      "metadata": {
        "id": "mnxZcFeWkR-5"
      },
      "execution_count": 16,
      "outputs": []
    },
    {
      "cell_type": "code",
      "source": [
        "start_time=time.time()\n",
        "# married_query,unmarried_query,fm_list=combine_multiple_aggregate_and_groupby()\n",
        "# cur = con.cursor()\n",
        "# married_result=cur.execute(married_query)\n",
        "# target_table=pd.DataFrame(married_result.fetchall())\n",
        "# cur.close()\n",
        "# cur = con.cursor()\n",
        "# unmarried_result=cur.execute(unmarried_query)\n",
        "# reference_table=pd.DataFrame(unmarried_result.fetchall())\n",
        "# cur.close()\n",
        "\n",
        "combined_query,fm_list=combine_multiple_aggregate_and_groupby_and_queries()\n",
        "cur = con.cursor()\n",
        "married_unmarried_result=cur.execute(combined_query)\n",
        "all_table=pd.DataFrame(married_unmarried_result.fetchall())\n",
        "cur.close()\n",
        "\n",
        "target_table=all_table.where(all_table[33]==1).dropna().reset_index()\n",
        "reference_table=all_table.where(all_table[34]==1).dropna().reset_index()\n",
        "\n",
        "target_table_partitions=np.array_split(target_table,num_of_partitions)\n",
        "target_table_partitions=reset_index(target_table_partitions)\n",
        "reference_table_partitions=np.array_split(reference_table,num_of_partitions)\n",
        "reference_table_partitions=reset_index(reference_table_partitions)\n",
        "res_dict={}\n",
        "removed_views=[]\n",
        "for i in range(num_of_partitions):\n",
        "  print(i)\n",
        "  for a_column in range(len(all_a)):\n",
        "    for f_m_column in range(len(all_a),len(all_a)+len(fm_list)):\n",
        "      view_key=(all_a[a_column],fm_list[f_m_column-len(all_a)][0],fm_list[f_m_column-len(all_a)][1])\n",
        "      if removed_views:\n",
        "        if view_key in removed_views:\n",
        "            # go to next iteration\n",
        "            continue\n",
        "      target_list,reference_list=find_target_table_and_ref_table(target_table_partitions[i],reference_table_partitions[i],a_column,f_m_column,fm_list[f_m_column-len(all_a)][0])\n",
        "\n",
        "      if view_key in res_dict:\n",
        "        res_dict[view_key].append(kl_divergence(target_list,reference_list))\n",
        "      else:\n",
        "        res_dict[view_key]=[kl_divergence(target_list,reference_list)]\n",
        "  stats_dict=find_mean_and_bound(res_dict,num_of_partitions,delta)\n",
        "  lower_bound=[]\n",
        "\n",
        "  for view,m_u_l_bound in stats_dict.items():\n",
        "    lower_bound.append(m_u_l_bound[2])\n",
        "  sorted_lower_bound=sorted(lower_bound,reverse=True)\n",
        "  k_lower_bound=sorted_lower_bound[top_k-1]\n",
        "  views_to_remove = []\n",
        "  for view,m_u_l_bound in stats_dict.items():\n",
        "    if m_u_l_bound[1]<k_lower_bound:\n",
        "      removed_views.append(view)\n",
        "      views_to_remove.append(view)\n",
        "  for view in views_to_remove:\n",
        "    del stats_dict[view]\n",
        "    del res_dict[view]\n",
        "\n",
        "final_ans={}\n",
        "for key,values in res_dict.items():\n",
        "  final_ans[key]=np.mean(values)\n",
        "final_ans = list(sorted(final_ans.items(), key=lambda item: item[1],reverse=True))\n",
        "end_time=time.time()\n",
        "print(end_time-start_time)\n",
        "print(final_ans)"
      ],
      "metadata": {
        "colab": {
          "base_uri": "https://localhost:8080/"
        },
        "id": "j7OC6pizkghS",
        "outputId": "ca24a9da-58cb-46cf-eabd-e8e3f6b403c6"
      },
      "execution_count": 17,
      "outputs": [
        {
          "output_type": "stream",
          "name": "stdout",
          "text": [
            "0\n",
            "1\n",
            "2\n",
            "3\n",
            "4\n",
            "8.028573751449585\n",
            "[(('native_country', 'avg', 'capital_loss'), 20.98269847041292), (('native_country', 'avg', 'capital_gain'), 18.29712638691184), (('native_country', 'max', 'capital_loss'), 17.554913436842373), (('native_country', 'max', 'capital_gain'), 11.054671326317195), (('native_country', 'min', 'fnlwgt'), 4.918556265951386)]\n"
          ]
        }
      ]
    },
    {
      "cell_type": "markdown",
      "source": [
        "## Visualization\n"
      ],
      "metadata": {
        "id": "V5ruOfobtb3c"
      }
    },
    {
      "cell_type": "code",
      "source": [
        "select=\"select \"\n",
        "group_by=\" group by \"\n",
        "from_married=\" from married\"\n",
        "from_unmarried=\" from unmarried\"\n",
        "\n",
        "\n",
        "def visualization(a, m, f, con):\n",
        "    target_query = f\"SELECT {a}, {f}({m}) FROM married GROUP BY {a};\"\n",
        "    reference_query = f\"SELECT {a}, {f}({m}) FROM unmarried GROUP BY {a};\"\n",
        "\n",
        "    cursor1 = con.cursor()\n",
        "    cursor2 = con.cursor()\n",
        "    cursor1.execute(target_query)\n",
        "    cursor2.execute(reference_query)\n",
        "\n",
        "    df_married = pd.DataFrame(cursor1.fetchall(), columns=['Category', 'Value'])\n",
        "    df_unmarried = pd.DataFrame(cursor2.fetchall(), columns=['Category', 'Value'])\n",
        "\n",
        "    merged_df = pd.merge(df_married, df_unmarried, how='outer', on='Category', suffixes=['_Married', '_Unmarried'])\n",
        "    merged_df.fillna(0, inplace=True)\n",
        "\n",
        "\n",
        "    plot_data = {\n",
        "        'Married': list(merged_df['Value_Married'].astype(float)),\n",
        "        'Unmarried': list(merged_df['Value_Unmarried'].astype(float))\n",
        "    }\n",
        "    df_bar = pd.DataFrame(plot_data, index=list(merged_df['Category']))\n",
        "\n",
        "    ax = df_bar.plot.bar(xlabel=a, ylabel=f'{f}({m})', rot=90, figsize=(8, 5), color= {\n",
        "      \"#c27ba0\",\n",
        "      \"#93c47d\",\n",
        "      \"#8e7cc3\",\n",
        "      \"#ffd966\",\n",
        "    }, edgecolor='black')\n",
        "    return ax"
      ],
      "metadata": {
        "id": "cbOEmFE0tgU9"
      },
      "execution_count": 18,
      "outputs": []
    },
    {
      "cell_type": "code",
      "source": [
        "for row in final_ans:\n",
        "    print(row)\n",
        "    visualization(row[0][0], row[0][2], row[0][1], con)\n",
        "    plt.savefig(f\"PruningImagePDF_{row}.pdf\", format=\"pdf\", bbox_inches=\"tight\")"
      ],
      "metadata": {
        "id": "X3nd2Y_-1uAJ"
      },
      "execution_count": 19,
      "outputs": []
    },
    {
      "cell_type": "code",
      "source": [],
      "metadata": {
        "id": "whuklV6KuCto"
      },
      "execution_count": 19,
      "outputs": []
    }
  ]
}
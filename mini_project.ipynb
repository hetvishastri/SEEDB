{
  "nbformat": 4,
  "nbformat_minor": 0,
  "metadata": {
    "colab": {
      "provenance": []
    },
    "kernelspec": {
      "name": "python3",
      "display_name": "Python 3"
    },
    "language_info": {
      "name": "python"
    }
  },
  "cells": [
    {
      "cell_type": "code",
      "execution_count": 1,
      "metadata": {
        "id": "TiwDKJVPjWm3"
      },
      "outputs": [],
      "source": [
        "import sqlite3\n",
        "import csv\n",
        "from utils import *\n",
        "import pandas as pd\n",
        "import numpy as np\n",
        "import time"
      ]
    },
    {
      "cell_type": "code",
      "source": [
        "database_path=\"census.db\"\n",
        "all_a=['workclass','education','education_num','occupation','relationship','race','sex','native_country','income']\n",
        "all_m=['age','fnlwgt','capital_gain','capital_loss','hours_per_week']\n",
        "all_f=['sum','avg','max','min','count']\n",
        "\n",
        "top_k=5\n",
        "num_of_partitions=5\n",
        "delta=0.01\n",
        "con = sqlite3.connect(database_path)\n"
      ],
      "metadata": {
        "id": "uBY41RKjj4Vm"
      },
      "execution_count": 2,
      "outputs": []
    },
    {
      "cell_type": "code",
      "source": [
        "def create_main_database():\n",
        "    cur=con.cursor()\n",
        "    cur.execute(\"DROP TABLE IF EXISTS census\")\n",
        "    cur.execute(\"CREATE TABLE IF NOT EXISTS census(age INTEGER,workclass VARCHAR(200) NULL,fnlwgt INTEGER,education VARCHAR(200),education_num INTEGER,marital_status VARCHAR(200),occupation VARCHAR(200) NULL, relationship VARCHAR(200),race VARCHAR(200),sex VARCHAR(200),capital_gain INTEGER,capital_loss INTEGER,hours_per_week INTEGER,native_country VARCHAR(200) NULL,income VARCHAR(200))\")\n",
        "    with open(\"census+income/adult.data\", \"r\") as file:\n",
        "        contents = csv.reader(file)\n",
        "        attribute_tupple=('age','workclass','fnlwgt','education','education_num','marital_status','occupation', 'relationship','race','sex','capital_gain','capital_loss','hours_per_week','native_country','income')\n",
        "        _placeholder=place_holder(attribute_tupple)\n",
        "        insert_records = f\"INSERT INTO census VALUES {_placeholder}\"\n",
        "        cur.executemany(insert_records, contents)\n",
        "    con.commit()\n",
        "    print(\"Created Main Database\")\n",
        "\n",
        "def create_married_unmarried_database():\n",
        "    cur = con.cursor()\n",
        "    cur.execute(\"DROP TABLE IF EXISTS married\")\n",
        "    cur.execute(\"DROP TABLE IF EXISTS unmarried\")\n",
        "\n",
        "    # Create table for married individuals\n",
        "    cur.execute(\"CREATE TABLE married AS SELECT * FROM census WHERE TRIM(marital_status) IN ('Married-spouse-absent', 'Married-civ-spouse', 'Separated', 'Widowed', 'Married-AF-spouse')\")\n",
        "    cur.execute(\"ALTER TABLE married DROP COLUMN marital_status\")\n",
        "    # Create table for unmarried individuals\n",
        "    cur.execute(\"CREATE TABLE unmarried AS SELECT * FROM census WHERE TRIM(marital_status) IN ('Divorced', 'Never-married')\")\n",
        "    cur.execute(\"ALTER TABLE unmarried DROP COLUMN marital_status\")\n",
        "    con.commit()\n",
        "    print(\"Created Married and Unmarried Database\")"
      ],
      "metadata": {
        "id": "9ZlZVP_EjrUG"
      },
      "execution_count": 3,
      "outputs": []
    },
    {
      "cell_type": "code",
      "source": [
        "create_main_database()"
      ],
      "metadata": {
        "id": "xLFAYdN8kBrA",
        "colab": {
          "base_uri": "https://localhost:8080/"
        },
        "outputId": "e64d55ff-d38f-47a8-e02e-578345d11571"
      },
      "execution_count": 4,
      "outputs": [
        {
          "output_type": "stream",
          "name": "stdout",
          "text": [
            "Created Main Database\n"
          ]
        }
      ]
    },
    {
      "cell_type": "code",
      "source": [
        "create_married_unmarried_database()"
      ],
      "metadata": {
        "id": "hvVUKnugkDRL",
        "colab": {
          "base_uri": "https://localhost:8080/"
        },
        "outputId": "8adf727c-8294-4207-eefa-d8d45a99654b"
      },
      "execution_count": 5,
      "outputs": [
        {
          "output_type": "stream",
          "name": "stdout",
          "text": [
            "Created Married and Unmarried Database\n"
          ]
        }
      ]
    },
    {
      "cell_type": "code",
      "source": [
        "def find_target_table_and_ref_table(target_table,reference_table,a_column,f_m_column,aggregate):\n",
        "  final_dict={}\n",
        "  for row in range(len(target_table)):\n",
        "    if target_table[f_m_column][row]!=0:\n",
        "      if target_table[a_column][row] not in final_dict:\n",
        "        final_dict[target_table[a_column][row]]=[[target_table[f_m_column][row]]]\n",
        "      else:\n",
        "        final_dict[target_table[a_column][row]][0].append(target_table[f_m_column][row])\n",
        "    else:\n",
        "      if target_table[a_column][row] not in final_dict:\n",
        "        final_dict[target_table[a_column][row]]=[[1e-9]]\n",
        "      else:\n",
        "        final_dict[target_table[a_column][row]][0].append(1e-9)\n",
        "  for row in range(len(reference_table)):\n",
        "    if reference_table[a_column][row] not in final_dict:\n",
        "      final_dict[reference_table[a_column][row]]=[[1e-9]]\n",
        "    if reference_table[f_m_column][row]!=0:\n",
        "      if len(final_dict[reference_table[a_column][row]])!=2:\n",
        "        final_dict[reference_table[a_column][row]].append([reference_table[f_m_column][row]])\n",
        "      else:\n",
        "        final_dict[reference_table[a_column][row]][1].append(reference_table[f_m_column][row])\n",
        "    else:\n",
        "      if len(final_dict[reference_table[a_column][row]])!=2:\n",
        "        final_dict[reference_table[a_column][row]].append([1e-9])\n",
        "      else:\n",
        "        final_dict[reference_table[a_column][row]][1].append(1e-9)\n",
        "\n",
        "  for key,value in final_dict.items():\n",
        "    if len(value)!=2:\n",
        "      final_dict[key].append([1e-9])\n",
        "\n",
        "  final_dict=get_updated_table_based_on_aggregate_group_by(final_dict,aggregate)\n",
        "\n",
        "  target_list=[]\n",
        "  reference_list=[]\n",
        "  for i in final_dict.values():\n",
        "    target_list.append(i[0])\n",
        "    reference_list.append(i[1])\n",
        "  return target_list,reference_list\n",
        "\n",
        "def get_updated_table_based_on_aggregate_group_by(final_dict,aggregate):\n",
        "  if aggregate=='avg':\n",
        "    for key,value in final_dict.items():\n",
        "      tar_mean_val=np.mean(value[0])\n",
        "      ref_mean_val=np.mean(value[1])\n",
        "      final_dict[key][0]=tar_mean_val\n",
        "      final_dict[key][1]=ref_mean_val\n",
        "  elif aggregate=='sum':\n",
        "    for key,value in final_dict.items():\n",
        "      tar_mean_val=np.sum(value[0])\n",
        "      ref_mean_val=np.sum(value[1])\n",
        "      final_dict[key][0]=tar_mean_val\n",
        "      final_dict[key][1]=ref_mean_val\n",
        "  elif aggregate=='max':\n",
        "    for key,value in final_dict.items():\n",
        "      tar_mean_val=np.max(value[0])\n",
        "      ref_mean_val=np.max(value[1])\n",
        "      final_dict[key][0]=tar_mean_val\n",
        "      final_dict[key][1]=ref_mean_val\n",
        "  elif aggregate=='min':\n",
        "    for key,value in final_dict.items():\n",
        "      tar_mean_val=np.min(value[0])\n",
        "      ref_mean_val=np.min(value[1])\n",
        "      final_dict[key][0]=tar_mean_val\n",
        "      final_dict[key][1]=ref_mean_val\n",
        "  elif aggregate=='count':\n",
        "    for key,value in final_dict.items():\n",
        "      tar_mean_val=len(value[0])\n",
        "      ref_mean_val=len(value[1])\n",
        "      final_dict[key][0]=tar_mean_val\n",
        "      final_dict[key][1]=ref_mean_val\n",
        "  return final_dict"
      ],
      "metadata": {
        "id": "GRK0-S_R_kxJ"
      },
      "execution_count": 6,
      "outputs": []
    },
    {
      "cell_type": "markdown",
      "source": [
        "### Normal All Views Execution"
      ],
      "metadata": {
        "id": "5wq_fDkiwVNc"
      }
    },
    {
      "cell_type": "code",
      "source": [
        "start_time=time.time()\n",
        "final_ans={}\n",
        "for a in all_a:\n",
        "  for f in all_f:\n",
        "    for m in all_m:\n",
        "      married_query=f'select {a},{f}({m}) from married group by {a}'\n",
        "      unmarried_query=f'select {a},{f}({m}) from unmarried group by {a}'\n",
        "      cur = con.cursor()\n",
        "      married_result=cur.execute(married_query)\n",
        "      target_table=pd.DataFrame(married_result.fetchall())\n",
        "      cur = con.cursor()\n",
        "      unmarried_result=cur.execute(unmarried_query)\n",
        "      reference_table=pd.DataFrame(unmarried_result.fetchall())\n",
        "      target_list,reference_list=find_target_table_and_ref_table(target_table,reference_table,0,1,'avg')\n",
        "      final_ans[a,m,f]=kl_divergence(target_list,reference_list)\n",
        "result_list = sorted(final_ans.items(), key=lambda item: item[1],reverse=True)\n",
        "end_time=time.time()\n",
        "print(end_time-start_time)\n",
        "print(result_list[:top_k])"
      ],
      "metadata": {
        "colab": {
          "base_uri": "https://localhost:8080/"
        },
        "id": "OaWcam15_2ml",
        "outputId": "3a197d4b-8fe3-404d-b6eb-01e07ed12b23"
      },
      "execution_count": 7,
      "outputs": [
        {
          "output_type": "stream",
          "name": "stdout",
          "text": [
            "9.14383316040039\n",
            "[(('relationship', 'fnlwgt', 'sum'), 35.15343207938889), (('relationship', 'capital_gain', 'sum'), 33.97896955835773), (('relationship', 'capital_loss', 'sum'), 30.805513225945674), (('relationship', 'hours_per_week', 'sum'), 28.807373845862152), (('relationship', 'age', 'sum'), 27.669108038094347)]\n"
          ]
        }
      ]
    },
    {
      "cell_type": "markdown",
      "source": [
        "## Share Based Optimization (Combine Multiple Aggregate)"
      ],
      "metadata": {
        "id": "C_F7OhIww1v2"
      }
    },
    {
      "cell_type": "code",
      "source": [
        "def combine_multiple_aggregate(a,f_m):\n",
        "    group_by=\" group by \"+f\"{a}\"\n",
        "    from_married=\" from married\"\n",
        "    from_unmarried=\" from unmarried\"\n",
        "    query=\"select \"+f\"{a}\"+ f_m\n",
        "    married_query=query+from_married+group_by\n",
        "    unmarried_query=query+from_unmarried+group_by\n",
        "    return married_query,unmarried_query\n"
      ],
      "metadata": {
        "id": "TyvVuxAtQfeq"
      },
      "execution_count": 8,
      "outputs": []
    },
    {
      "cell_type": "code",
      "source": [
        "start_time=time.time()\n",
        "f_m=\" \"\n",
        "fm_list=[]\n",
        "for f in all_f:\n",
        "  for m in all_m:\n",
        "    f_m=f_m+f\",{f}({m})\"\n",
        "    fm_list.append((f,m))\n",
        "final_ans={}\n",
        "for a in all_a:\n",
        "  married_query,unmarried_query=combine_multiple_aggregate(a,f_m)\n",
        "  cur = con.cursor()\n",
        "  married_result=cur.execute(married_query)\n",
        "  target_table=pd.DataFrame(married_result.fetchall())\n",
        "\n",
        "  cur.close()\n",
        "  cur = con.cursor()\n",
        "  unmarried_result=cur.execute(unmarried_query)\n",
        "  reference_table=pd.DataFrame(unmarried_result.fetchall())\n",
        "  for f_m_column in range(1,len(fm_list)+1):\n",
        "    target_list,reference_list=find_target_table_and_ref_table(target_table,reference_table,0,f_m_column,fm_list[f_m_column-1][0])\n",
        "    final_ans[(a,fm_list[f_m_column-1][0],fm_list[f_m_column-1][1])]=kl_divergence(target_list,reference_list)\n",
        "result_list = sorted(final_ans.items(), key=lambda item: item[1],reverse=True)\n",
        "end_time=time.time()\n",
        "print(end_time-start_time)\n",
        "print(result_list[:top_k])"
      ],
      "metadata": {
        "colab": {
          "base_uri": "https://localhost:8080/"
        },
        "id": "RpKwTJe0Qfnr",
        "outputId": "e65f79cd-ebd8-4ccd-edf6-1f7b6ad198b7"
      },
      "execution_count": 9,
      "outputs": [
        {
          "output_type": "stream",
          "name": "stdout",
          "text": [
            "1.7410438060760498\n",
            "[(('relationship', 'sum', 'fnlwgt'), 35.15343207938889), (('relationship', 'sum', 'capital_gain'), 33.97896955835773), (('relationship', 'sum', 'capital_loss'), 30.805513225945674), (('relationship', 'sum', 'hours_per_week'), 28.807373845862152), (('relationship', 'sum', 'age'), 27.669108038094347)]\n"
          ]
        }
      ]
    },
    {
      "cell_type": "markdown",
      "source": [
        "## Share Based Optimization (Combine Multiple Aggregate) (Combine Reference Query and Target Query)"
      ],
      "metadata": {
        "id": "GROokDdm4gXh"
      }
    },
    {
      "cell_type": "code",
      "source": [
        "def combine_multiple_aggregate_and_queries(a,f_m):\n",
        "  group_by=\" group by \"+f\"{a}\"\n",
        "  from_census=\" from census\"\n",
        "  case_clause=\", CASE WHEN TRIM(marital_status) IN ('Married-spouse-absent', 'Married-civ-spouse', 'Separated', 'Widowed', 'Married-AF-spouse') THEN 1 ELSE 0 END as g1, CASE WHEN TRIM(marital_status) IN ('Divorced', 'Never-married') THEN 1 ELSE 0 END as g2\"\n",
        "  combined_query=\"select \"+f\"{a}\"+f_m+case_clause+from_census+group_by+\",g1,g2\"\n",
        "  return combined_query\n"
      ],
      "metadata": {
        "id": "aeTfANJK2rVd"
      },
      "execution_count": 10,
      "outputs": []
    },
    {
      "cell_type": "code",
      "source": [
        "start_time=time.time()\n",
        "f_m=\" \"\n",
        "fm_list=[]\n",
        "for f in all_f:\n",
        "  for m in all_m:\n",
        "    f_m=f_m+f\",{f}({m})\"\n",
        "    fm_list.append((f,m))\n",
        "final_ans={}\n",
        "for a in all_a:\n",
        "  combined_query=combine_multiple_aggregate_and_queries(a,f_m)\n",
        "  cur = con.cursor()\n",
        "  married_unmarried_result=cur.execute(combined_query)\n",
        "\n",
        "  all_table=pd.DataFrame(married_unmarried_result.fetchall())\n",
        "  cur.close()\n",
        "  target_table=all_table.where(all_table[26]==1).dropna().reset_index()\n",
        "  reference_table=all_table.where(all_table[27]==1).dropna().reset_index()\n",
        "  for f_m_column in range(1,len(fm_list)+1):\n",
        "    target_list,reference_list=find_target_table_and_ref_table(target_table,reference_table,0,f_m_column,fm_list[f_m_column-1][0])\n",
        "    final_ans[(a,fm_list[f_m_column-1][0],fm_list[f_m_column-1][1])]=kl_divergence(target_list,reference_list)\n",
        "result_list = sorted(final_ans.items(), key=lambda item: item[1],reverse=True)\n",
        "end_time=time.time()\n",
        "print(end_time-start_time)\n",
        "print(result_list[:top_k])"
      ],
      "metadata": {
        "colab": {
          "base_uri": "https://localhost:8080/"
        },
        "id": "veIt7tjf2roq",
        "outputId": "45320d88-62dc-46be-e0af-61ba883f1edf"
      },
      "execution_count": 11,
      "outputs": [
        {
          "output_type": "stream",
          "name": "stdout",
          "text": [
            "1.1056392192840576\n",
            "[(('relationship', 'sum', 'fnlwgt'), 35.15343207938889), (('relationship', 'sum', 'capital_gain'), 33.97896955835773), (('relationship', 'sum', 'capital_loss'), 30.805513225945674), (('relationship', 'sum', 'hours_per_week'), 28.807373845862152), (('relationship', 'sum', 'age'), 27.669108038094347)]\n"
          ]
        }
      ]
    },
    {
      "cell_type": "markdown",
      "source": [
        "## Share Based Optimization (Combine Multiple Aggregate and Group By)"
      ],
      "metadata": {
        "id": "oALtVITQw4kt"
      }
    },
    {
      "cell_type": "code",
      "source": [
        "def combine_multiple_aggregate_and_groupby():\n",
        "    f_m=\" \"\n",
        "    fm_list=[]\n",
        "    for f in all_f:\n",
        "        for m in all_m:\n",
        "            f_m=f_m+f\",{f}({m})\"\n",
        "            fm_list.append((f,m))\n",
        "\n",
        "    select=\"select\"\n",
        "    group_by=\" group by\"\n",
        "    where=\" where \"\n",
        "    for a in all_a:\n",
        "        select=select+f\" {a},\"\n",
        "        group_by=group_by+f\" {a},\"\n",
        "    select=select[:-1]\n",
        "    group_by=group_by[:-1]\n",
        "\n",
        "    from_married=\" from married\"\n",
        "    from_unmarried=\" from unmarried\"\n",
        "    married_query=select+f_m+from_married+group_by\n",
        "    unmarried_query=select+f_m+from_unmarried+group_by\n",
        "    return married_query,unmarried_query,fm_list\n"
      ],
      "metadata": {
        "id": "xgPrJR1qkEta"
      },
      "execution_count": 12,
      "outputs": []
    },
    {
      "cell_type": "code",
      "source": [
        "start_time=time.time()\n",
        "married_query,unmarried_query,fm_list=combine_multiple_aggregate_and_groupby()\n",
        "cur = con.cursor()\n",
        "married_result=cur.execute(married_query)\n",
        "target_table=pd.DataFrame(married_result.fetchall())\n",
        "cur.close()\n",
        "cur = con.cursor()\n",
        "unmarried_result=cur.execute(unmarried_query)\n",
        "reference_table=pd.DataFrame(unmarried_result.fetchall())\n",
        "cur.close()\n",
        "final_ans={}\n",
        "for a_column in range(len(all_a)):\n",
        "    for f_m_column in range(len(all_a),len(all_a)+len(fm_list)):\n",
        "        target_list,reference_list=find_target_table_and_ref_table(target_table,reference_table,a_column,f_m_column,fm_list[f_m_column-len(all_a)][0])\n",
        "        final_ans[(all_a[a_column],fm_list[f_m_column-len(all_a)][0],fm_list[f_m_column-len(all_a)][1])]=kl_divergence(target_list,reference_list)\n",
        "result_list = sorted(final_ans.items(), key=lambda item: item[1],reverse=True)\n",
        "end_time=time.time()\n",
        "print(end_time-start_time)\n",
        "print(result_list[:top_k])"
      ],
      "metadata": {
        "colab": {
          "base_uri": "https://localhost:8080/"
        },
        "id": "a88nr5PNkQfp",
        "outputId": "cb75fe27-bd01-47c4-f826-540c2c4e108e"
      },
      "execution_count": 13,
      "outputs": [
        {
          "output_type": "stream",
          "name": "stdout",
          "text": [
            "48.835559606552124\n",
            "[(('relationship', 'sum', 'fnlwgt'), 35.15343207938889), (('relationship', 'sum', 'capital_gain'), 33.97896955835655), (('relationship', 'sum', 'capital_loss'), 30.805513225929623), (('relationship', 'sum', 'hours_per_week'), 28.807373845862152), (('relationship', 'sum', 'age'), 27.669108038094347)]\n"
          ]
        }
      ]
    },
    {
      "cell_type": "markdown",
      "source": [
        "## Share Based Optimization (Combine Multiple Aggregate and Group By) (Combine Reference Query and Target Query)"
      ],
      "metadata": {
        "id": "TSUrlaXMxJ9o"
      }
    },
    {
      "cell_type": "code",
      "source": [
        "def combine_multiple_aggregate_and_groupby_and_queries():\n",
        "  f_m=\" \"\n",
        "  fm_list=[]\n",
        "  for f in all_f:\n",
        "      for m in all_m:\n",
        "          f_m=f_m+f\",{f}({m})\"\n",
        "          fm_list.append((f,m))\n",
        "\n",
        "  select=\"select\"\n",
        "  group_by=\" group by\"\n",
        "  where=\" where \"\n",
        "  for a in all_a:\n",
        "      select=select+f\" {a},\"\n",
        "      group_by=group_by+f\" {a},\"\n",
        "  select=select[:-1]\n",
        "  group_by=group_by[:-1]\n",
        "  from_census=\" from census\"\n",
        "  case_clause=\", CASE WHEN TRIM(marital_status) IN ('Married-spouse-absent', 'Married-civ-spouse', 'Separated', 'Widowed', 'Married-AF-spouse') THEN 1 ELSE 0 END as g1, CASE WHEN TRIM(marital_status) IN ('Divorced', 'Never-married') THEN 1 ELSE 0 END as g2\"\n",
        "  combined_query=select+f_m+case_clause+from_census+group_by+\",g1,g2\"\n",
        "  return combined_query,fm_list\n"
      ],
      "metadata": {
        "id": "YYjMVkm-xcrf"
      },
      "execution_count": 14,
      "outputs": []
    },
    {
      "cell_type": "code",
      "source": [
        "start_time=time.time()\n",
        "combined_query,fm_list=combine_multiple_aggregate_and_groupby_and_queries()\n",
        "cur = con.cursor()\n",
        "married_unmarried_result=cur.execute(combined_query)\n",
        "\n",
        "all_table=pd.DataFrame(married_unmarried_result.fetchall())\n",
        "cur.close()\n",
        "\n",
        "target_table=all_table.where(all_table[34]==1).dropna().reset_index()\n",
        "reference_table=all_table.where(all_table[35]==1).dropna().reset_index()\n",
        "final_ans={}\n",
        "for a_column in range(len(all_a)):\n",
        "    for f_m_column in range(len(all_a),len(all_a)+len(fm_list)):\n",
        "        target_list,reference_list=find_target_table_and_ref_table(target_table,reference_table,a_column,f_m_column,fm_list[f_m_column-len(all_a)][0])\n",
        "        final_ans[(all_a[a_column],fm_list[f_m_column-len(all_a)][0],fm_list[f_m_column-len(all_a)][1])]=kl_divergence(target_list,reference_list)\n",
        "result_list = sorted(final_ans.items(), key=lambda item: item[1],reverse=True)\n",
        "end_time=time.time()\n",
        "print(end_time-start_time)\n",
        "print(result_list[:top_k])"
      ],
      "metadata": {
        "colab": {
          "base_uri": "https://localhost:8080/"
        },
        "id": "d4TmfQSsxZtb",
        "outputId": "f2adbc30-4799-4574-af7a-33c6fd122261"
      },
      "execution_count": 15,
      "outputs": [
        {
          "output_type": "stream",
          "name": "stdout",
          "text": [
            "53.974724769592285\n",
            "[(('relationship', 'sum', 'fnlwgt'), 35.15343207938889), (('relationship', 'sum', 'capital_gain'), 33.97896955835655), (('relationship', 'sum', 'capital_loss'), 30.805513225929623), (('relationship', 'sum', 'hours_per_week'), 28.807373845862152), (('relationship', 'sum', 'age'), 27.669108038094347)]\n"
          ]
        }
      ]
    },
    {
      "cell_type": "markdown",
      "source": [
        "## Pruning Based Method (Interval Based Method)"
      ],
      "metadata": {
        "id": "vd6rcqJgxCsQ"
      }
    },
    {
      "cell_type": "code",
      "source": [
        "def find_mean_and_bound(res_dict,num_of_partitions,delta):\n",
        "    stats_dict={}\n",
        "    for key,values in res_dict.items():\n",
        "        mean=np.mean(values)\n",
        "        #here I have done len(values)+1 as I did not want log(log(1)) to throw any error\n",
        "        ci=confidence_interval(len(values)+1,num_of_partitions,delta)\n",
        "        upper_bound=mean+ci\n",
        "        lower_bound=mean-ci\n",
        "        stats_dict[key]=(mean,upper_bound,lower_bound)\n",
        "    return stats_dict"
      ],
      "metadata": {
        "id": "mnxZcFeWkR-5"
      },
      "execution_count": 16,
      "outputs": []
    },
    {
      "cell_type": "code",
      "source": [
        "start_time=time.time()\n",
        "married_query,unmarried_query,fm_list=combine_multiple_aggregate_and_groupby()\n",
        "cur = con.cursor()\n",
        "married_result=cur.execute(married_query)\n",
        "target_table=pd.DataFrame(married_result.fetchall())\n",
        "cur.close()\n",
        "cur = con.cursor()\n",
        "unmarried_result=cur.execute(unmarried_query)\n",
        "reference_table=pd.DataFrame(unmarried_result.fetchall())\n",
        "cur.close()\n",
        "target_table_partitions=np.array_split(target_table,num_of_partitions)\n",
        "target_table_partitions=reset_index(target_table_partitions)\n",
        "reference_table_partitions=np.array_split(reference_table,num_of_partitions)\n",
        "reference_table_partitions=reset_index(reference_table_partitions)\n",
        "res_dict={}\n",
        "removed_views=[]\n",
        "for i in range(num_of_partitions):\n",
        "  print(i)\n",
        "  for a_column in range(len(all_a)):\n",
        "    for f_m_column in range(len(all_a),len(all_a)+len(fm_list)):\n",
        "      view_key=(all_a[a_column],fm_list[f_m_column-len(all_a)][0],fm_list[f_m_column-len(all_a)][1])\n",
        "      if removed_views:\n",
        "        if view_key in removed_views:\n",
        "            # go to next iteration\n",
        "            continue\n",
        "      target_list,reference_list=find_target_table_and_ref_table(target_table_partitions[i],reference_table_partitions[i],a_column,f_m_column,fm_list[f_m_column-len(all_a)][0])\n",
        "\n",
        "      if view_key in res_dict:\n",
        "        res_dict[view_key].append(kl_divergence(target_list,reference_list))\n",
        "      else:\n",
        "        res_dict[view_key]=[kl_divergence(target_list,reference_list)]\n",
        "  stats_dict=find_mean_and_bound(res_dict,num_of_partitions,delta)\n",
        "  lower_bound=[]\n",
        "\n",
        "  for view,m_u_l_bound in stats_dict.items():\n",
        "    lower_bound.append(m_u_l_bound[2])\n",
        "  sorted_lower_bound=sorted(lower_bound,reverse=True)\n",
        "  k_lower_bound=sorted_lower_bound[top_k-1]\n",
        "  views_to_remove = []\n",
        "  for view,m_u_l_bound in stats_dict.items():\n",
        "    if m_u_l_bound[1]<k_lower_bound:\n",
        "      removed_views.append(view)\n",
        "      views_to_remove.append(view)\n",
        "  for view in views_to_remove:\n",
        "    del stats_dict[view]\n",
        "    del res_dict[view]\n",
        "\n",
        "final_ans={}\n",
        "for key,values in res_dict.items():\n",
        "  final_ans[key]=np.mean(values)\n",
        "final_ans = list(sorted(final_ans.items(), key=lambda item: item[1],reverse=True))\n",
        "end_time=time.time()\n",
        "print(end_time-start_time)\n",
        "print(final_ans)"
      ],
      "metadata": {
        "colab": {
          "base_uri": "https://localhost:8080/"
        },
        "id": "j7OC6pizkghS",
        "outputId": "a0b93393-d563-40be-b854-f8ef1da9d784"
      },
      "execution_count": 17,
      "outputs": [
        {
          "output_type": "stream",
          "name": "stdout",
          "text": [
            "0\n",
            "1\n",
            "2\n",
            "3\n",
            "4\n",
            "10.77729320526123\n",
            "[(('relationship', 'sum', 'fnlwgt'), 33.431711604981096), (('relationship', 'sum', 'capital_gain'), 32.0091390532803), (('relationship', 'sum', 'capital_loss'), 28.89881248818101), (('relationship', 'sum', 'hours_per_week'), 27.057359339465684), (('relationship', 'sum', 'age'), 26.01450142355511)]\n"
          ]
        }
      ]
    },
    {
      "cell_type": "code",
      "source": [],
      "metadata": {
        "id": "X3nd2Y_-1uAJ"
      },
      "execution_count": 17,
      "outputs": []
    }
  ]
}